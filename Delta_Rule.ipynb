{
 "cells": [
  {
   "cell_type": "code",
   "execution_count": 7,
   "id": "06c7a220",
   "metadata": {},
   "outputs": [
    {
     "name": "stdout",
     "output_type": "stream",
     "text": [
      "Iteration 1\n",
      "Iteration 2\n",
      "Iteration 3\n"
     ]
    }
   ],
   "source": [
    "def findDelta(z,y):\n",
    "    return z-y\n",
    "\n",
    "def prodSum(x,w):\n",
    "    sum = 0;\n",
    "    for i in range(2):\n",
    "        sum += (x[i] * w[i])\n",
    "    \n",
    "    if sum > 0.5:\n",
    "        return 1\n",
    "    else:\n",
    "        return 0\n",
    "\n",
    "def delZeroCheck(d):\n",
    "    for i in range(4):\n",
    "        if d[i] > 0:\n",
    "            return True\n",
    "        \n",
    "    return False\n",
    "\n",
    "def wFinal(w,x,d,a):\n",
    "    return w + (x*d*a)\n",
    "\n",
    "x = [[0,0],[0,1],[1,0],[1,1]] #value\n",
    "# w = [[1,1],[1,1],[1,1],[1,1]] #weight\n",
    "w = [0.3,0.2]\n",
    "d = [1,1,1,1]\n",
    "a = 0.2\n",
    "#for Logical AND operation\n",
    "# z = [0,0,0,1]\n",
    "\n",
    "#for Logical OR operation\n",
    "z = [0,1,1,1]\n",
    "\n",
    "it = 0\n",
    "while(delZeroCheck(d)):\n",
    "    it+=1\n",
    "    print(\"Iteration {}\".format(it))\n",
    "    for i in range(4):\n",
    "        y = prodSum(x[i],w)\n",
    "        d[i] = findDelta(z[i],y)\n",
    "        for j in range(2):\n",
    "            w[j] = wFinal(w[j],x[i][j],d[i],a)\n",
    "        \n",
    "\n",
    "\n",
    "\n",
    "\n"
   ]
  }
 ],
 "metadata": {
  "kernelspec": {
   "display_name": "Python 3 (ipykernel)",
   "language": "python",
   "name": "python3"
  },
  "language_info": {
   "codemirror_mode": {
    "name": "ipython",
    "version": 3
   },
   "file_extension": ".py",
   "mimetype": "text/x-python",
   "name": "python",
   "nbconvert_exporter": "python",
   "pygments_lexer": "ipython3",
   "version": "3.9.8"
  }
 },
 "nbformat": 4,
 "nbformat_minor": 5
}
